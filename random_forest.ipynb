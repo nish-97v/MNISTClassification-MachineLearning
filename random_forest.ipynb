{
 "cells": [
  {
   "cell_type": "code",
   "execution_count": 1,
   "metadata": {},
   "outputs": [
    {
     "name": "stderr",
     "output_type": "stream",
     "text": [
      "C:\\Users\\nisha\\Anaconda3\\lib\\site-packages\\sklearn\\ensemble\\weight_boosting.py:29: DeprecationWarning: numpy.core.umath_tests is an internal NumPy module and should not be imported. It will be removed in a future NumPy release.\n",
      "  from numpy.core.umath_tests import inner1d\n"
     ]
    }
   ],
   "source": [
    "import numpy as np\n",
    "import matplotlib.pyplot as plt\n",
    "import gzip\n",
    "from sklearn.ensemble import RandomForestClassifier\n",
    "from sklearn.preprocessing import OneHotEncoder\n",
    "import csv"
   ]
  },
  {
   "cell_type": "code",
   "execution_count": 2,
   "metadata": {},
   "outputs": [
    {
     "name": "stdout",
     "output_type": "stream",
     "text": [
      "(45000, 784)\n",
      "(15000, 784)\n",
      "(10000, 784)\n"
     ]
    }
   ],
   "source": [
    "fImageTrain = gzip.open('data/train-images-idx3-ubyte.gz','r')\n",
    "fImageTest = gzip.open('data/t10k-images-idx3-ubyte.gz','r')\n",
    "\n",
    "image_size = 28\n",
    "no_train = 60000\n",
    "no_val = 15000\n",
    "no_test = 10000\n",
    "\n",
    "import numpy as np\n",
    "\n",
    "fImageTrain.read(16)\n",
    "buf_trainImage = fImageTrain.read(image_size * image_size * no_train)\n",
    "train_img = np.frombuffer(buf_trainImage, dtype=np.uint8).astype(np.float32)\n",
    "train_img = train_img.reshape(no_train, image_size*image_size)\n",
    "\n",
    "trainval_img = train_img\n",
    "val_img = train_img[no_train-no_val:no_train, :]\n",
    "train_img = train_img[0:no_train-no_val, :]\n",
    "\n",
    "fImageTest.read(16)\n",
    "buf_testImage = fImageTest.read(image_size * image_size * no_test)\n",
    "test_img = np.frombuffer(buf_testImage, dtype=np.uint8).astype(np.float32)\n",
    "test_img = test_img.reshape(no_test, image_size*image_size)\n",
    "\n",
    "\n",
    "print(train_img.shape)\n",
    "print(val_img.shape)\n",
    "print(test_img.shape)"
   ]
  },
  {
   "cell_type": "code",
   "execution_count": 3,
   "metadata": {},
   "outputs": [
    {
     "name": "stdout",
     "output_type": "stream",
     "text": [
      "(45000,)\n",
      "(15000,)\n",
      "(10000,)\n"
     ]
    }
   ],
   "source": [
    "fLabelTrain = gzip.open('data/train-labels-idx1-ubyte.gz','r')\n",
    "fLabelTest = gzip.open('data/t10k-labels-idx1-ubyte.gz','r')\n",
    "\n",
    "fLabelTrain.read(8)\n",
    "buf_trainLabel = fLabelTrain.read(1 * 32 * no_train)\n",
    "train_lbl = np.frombuffer(buf_trainLabel, dtype=np.uint8).astype(np.int64)\n",
    "train_lbl = train_lbl.reshape(no_train)\n",
    "\n",
    "trainval_lbl = train_lbl\n",
    "val_lbl = train_lbl[no_train-no_val:no_train]\n",
    "train_lbl = train_lbl[0:no_train-no_val]\n",
    "\n",
    "fLabelTest.read(8)\n",
    "buf_testLabel = fLabelTest.read(1 * 32 * no_test)\n",
    "test_lbl = np.frombuffer(buf_testLabel, dtype=np.uint8).astype(np.int64)\n",
    "test_lbl = test_lbl.reshape(no_test)\n",
    "\n",
    "print(train_lbl.shape)\n",
    "print(val_lbl.shape)\n",
    "print(test_lbl.shape)"
   ]
  },
  {
   "cell_type": "code",
   "execution_count": 4,
   "metadata": {
    "scrolled": true
   },
   "outputs": [
    {
     "name": "stdout",
     "output_type": "stream",
     "text": [
      "150\n",
      "Finished iteration  1\n",
      "200\n",
      "Finished iteration  2\n",
      "250\n",
      "Finished iteration  3\n",
      "300\n",
      "Finished iteration  4\n",
      "350\n",
      "Finished iteration  5\n",
      "400\n",
      "Finished iteration  6\n",
      "[0.96726667 0.96793333 0.96846667 0.96906667 0.96933333 0.96846667]\n"
     ]
    }
   ],
   "source": [
    "# all parameters not specified are set to their defaults\n",
    "# default solver is incredibly slow thats why we change it\n",
    "estimator_list = [150, 200, 250, 300, 350, 400]\n",
    "score_list = np.zeros(len(estimator_list))\n",
    "j = 0\n",
    "for estimator in estimator_list:\n",
    "    print(estimator)\n",
    "    RandomFor = RandomForestClassifier(n_estimators = estimator, n_jobs = -1)\n",
    "    RandomFor.fit(train_img, train_lbl)\n",
    "    predictions = RandomFor.predict(val_img)\n",
    "    score = RandomFor.score(val_img, val_lbl)\n",
    "    score_list[j] = score\n",
    "    j= j+1\n",
    "    print('Finished iteration ', j)\n",
    "print(score_list)"
   ]
  },
  {
   "cell_type": "code",
   "execution_count": 5,
   "metadata": {
    "scrolled": false
   },
   "outputs": [
    {
     "name": "stdout",
     "output_type": "stream",
     "text": [
      "350\n"
     ]
    }
   ],
   "source": [
    "score_index = np.argmax(score_list)\n",
    "n_estimators = estimator_list[score_index]\n",
    "print(n_estimators)"
   ]
  },
  {
   "cell_type": "code",
   "execution_count": 6,
   "metadata": {},
   "outputs": [
    {
     "name": "stdout",
     "output_type": "stream",
     "text": [
      "0.9709\n"
     ]
    }
   ],
   "source": [
    "RandomFor = RandomForestClassifier(n_estimators = n_estimators, n_jobs = -1)\n",
    "RandomFor.fit(trainval_img, trainval_lbl)\n",
    "predictions = RandomFor.predict(test_img)\n",
    "score = RandomFor.score(test_img, test_lbl)\n",
    "print(score)"
   ]
  },
  {
   "cell_type": "code",
   "execution_count": 7,
   "metadata": {},
   "outputs": [
    {
     "name": "stdout",
     "output_type": "stream",
     "text": [
      "8970\n"
     ]
    }
   ],
   "source": [
    "index = 0\n",
    "misclassifiedIndexes = []\n",
    "for label, predict in zip(val_lbl, predictions):\n",
    "    if label != predict: \n",
    "        misclassifiedIndexes.append(index)\n",
    "        index +=1\n",
    "print(index)"
   ]
  },
  {
   "cell_type": "code",
   "execution_count": 15,
   "metadata": {},
   "outputs": [
    {
     "name": "stdout",
     "output_type": "stream",
     "text": [
      "[[0. 0. 0. ... 1. 0. 0.]\n",
      " [0. 0. 1. ... 0. 0. 0.]\n",
      " [0. 1. 0. ... 0. 0. 0.]\n",
      " ...\n",
      " [0. 0. 0. ... 0. 0. 0.]\n",
      " [0. 0. 0. ... 0. 0. 0.]\n",
      " [0. 0. 0. ... 0. 0. 0.]]\n"
     ]
    }
   ],
   "source": [
    "onehot_encoder = OneHotEncoder(sparse=False)\n",
    "predictions = predictions.reshape(len(predictions), 1)\n",
    "x = onehot_encoder.fit_transform(predictions)\n",
    "print(x)\n",
    "\n",
    "with open('results/rf.csv', 'w') as csvFile:\n",
    "    writer = csv.writer(csvFile, lineterminator='\\n')\n",
    "    writer.writerows(x)\n",
    "\n",
    "csvFile.close()"
   ]
  }
 ],
 "metadata": {
  "kernelspec": {
   "display_name": "Python 3",
   "language": "python",
   "name": "python3"
  },
  "language_info": {
   "codemirror_mode": {
    "name": "ipython",
    "version": 3
   },
   "file_extension": ".py",
   "mimetype": "text/x-python",
   "name": "python",
   "nbconvert_exporter": "python",
   "pygments_lexer": "ipython3",
   "version": "3.7.3"
  }
 },
 "nbformat": 4,
 "nbformat_minor": 2
}
